{
 "cells": [
  {
   "cell_type": "markdown",
   "metadata": {
    "id": "YO1mZRrP4FT2"
   },
   "source": [
    "<div style=\"width: 100%; clear: both;\">\n",
    "<div style=\"float: left; width: 50%;\">\n",
    "<img src=\"http://www.uoc.edu/portal/_resources/common/imatges/marca_UOC/UOC_Masterbrand.jpg\", align=\"left\">\n",
    "</div>\n",
    "<div style=\"float: right; width: 50%;\">\n",
    "<p style=\"margin: 0; padding-top: 22px; text-align:right;\">M2.959 · Visualització de dades · PAC3\n",
    "</p>\n",
    "<p style=\"margin: 0; text-align:right;\">2022-2 · Máster universitari en Ciencia de dades (Data science)</p>\n",
    "<p style=\"margin: 0; text-align:right; padding-button: 100px;\">Estudios de Informática, Multimèdia i Telecomunicació</p>\n",
    "</div>\n",
    "</div>\n",
    "<div style=\"width:100%;\">&nbsp;</div>\n",
    "\n",
    "**Nom: Víctor Iruela Garrido**\n",
    "\n",
    "# Pràctica: Creació de la visualització i lliurament del projecte (1a part)\n",
    "El següent codi ha estat creat i utilitzat per a processar i emmagatzemar diferents sets de dades per a poder fer les respectives representacions."
   ]
  },
  {
   "cell_type": "markdown",
   "metadata": {
    "id": "TNeJCTqGN6M0"
   },
   "source": [
    "# 0. Motivació, objectiu\n",
    "\n",
    "L’objectiu d’aquesta visualització és mostrar l’evolució (1 segle aprox.) de dos cartogramas del món: un amb les temperatures i un altre amb les emissions de CO2 per país, alhora que es recorre una gràfica de la temperatura global, emissions globals i nivell del mar com a referència. Es busca visualitzar de manera ràpida i impactant com estan distribuïdes aquestes emissions i les variacions de temperatura en el món.\n",
    "\n",
    "Es vol respondre a com afecta la distribució d’emissions de CO2 arreu del planeta i la seva evolució, pel que fa als augments de temperatura de cada país. És a dir, es vol observar com evolucionen les emissions de CO2 en els diferents països i com aquestes poden afectar a l’increment de temperatures del seu propi país o dels altres.\n",
    "\n",
    "D’aquesta manera, es pretén veure com, malgrat que les emissions de CO2 és una cosa que depèn de cada país, l’augment de temperatures no coneix fronteres.\n",
    "\n",
    "# 1. Pre-pocessament de les dades\n",
    "\n",
    "Les dades corresponen a tres sets:\n",
    "\n",
    "- Les emissions de carboni per país i any, des del 1750 fins al 2020.\n",
    "\n",
    "- Les temperatures mitjanes per país i mes, des del 1750 fins al 2013.\n",
    "\n",
    "- El nivell del mar, des del 1993 fins al 2022."
   ]
  },
  {
   "cell_type": "markdown",
   "metadata": {
    "id": "f05nsS-iTIZ7"
   },
   "source": [
    "**Font de les dades**\n",
    "- https://www.kaggle.com/datasets/moazzimalibhatti/co2-emission-by-countries-year-wise-17502022\n",
    "- https://www.kaggle.com/datasets/berkeleyearth/climate-change-earth-surface-temperature-data?select=GlobalLandTemperaturesByCountry.csv\n",
    "- https://www.kaggle.com/datasets/kkhandekar/global-sea-level-1993-2021Ç"
   ]
  },
  {
   "cell_type": "code",
   "execution_count": 1,
   "metadata": {
    "colab": {
     "base_uri": "https://localhost:8080/"
    },
    "id": "8Dho4VBiNX22",
    "outputId": "98da97fa-178f-421f-afcc-a86e0121572a"
   },
   "outputs": [],
   "source": [
    "#from google.colab import drive\n",
    "#drive.mount('/content/drive')\n",
    "#MODIFICAR D'ACORD A LA RUTA DE LES TEVES CARPETES\n",
    "#%cd /content/drive/MyDrive/Colab Notebooks/VISUALITZACIO"
   ]
  },
  {
   "cell_type": "code",
   "execution_count": 2,
   "metadata": {
    "id": "AEXCBS2ZSWLX"
   },
   "outputs": [],
   "source": [
    "import pandas as pd\n",
    "import matplotlib.pyplot as plt\n",
    "import numpy as np"
   ]
  },
  {
   "cell_type": "markdown",
   "metadata": {},
   "source": [
    "Definim una funció que ens servirà per treure els valors únics d'una columna en una llista:"
   ]
  },
  {
   "cell_type": "code",
   "execution_count": 3,
   "metadata": {},
   "outputs": [],
   "source": [
    "def unique_col_list(df, name_col):\n",
    "    col_list = df[name_col].to_list()\n",
    "    return np.unique(col_list)"
   ]
  },
  {
   "cell_type": "markdown",
   "metadata": {},
   "source": [
    "Carreguem les dades:"
   ]
  },
  {
   "cell_type": "code",
   "execution_count": 4,
   "metadata": {},
   "outputs": [],
   "source": [
    "df_CO2 = pd.read_csv('CO2 emission by countries.csv').sort_values(by=['Year', 'Country']).reset_index(drop=True)\n",
    "df_temps = pd.read_csv('GlobalLandTemperaturesByCountry.csv')\n",
    "# Netejem els mesos que algun valor buit:\n",
    "df_temps = df_temps.dropna()\n",
    "df_sea = pd.read_csv('sealevel.csv')"
   ]
  },
  {
   "cell_type": "markdown",
   "metadata": {},
   "source": [
    "Les explorem:"
   ]
  },
  {
   "cell_type": "code",
   "execution_count": 5,
   "metadata": {},
   "outputs": [
    {
     "name": "stdout",
     "output_type": "stream",
     "text": [
      "242\n",
      "220\n"
     ]
    }
   ],
   "source": [
    "print(len(unique_col_list(df_temps, 'Country')))\n",
    "print(len(unique_col_list(df_CO2, 'Country')))"
   ]
  },
  {
   "cell_type": "code",
   "execution_count": 6,
   "metadata": {},
   "outputs": [
    {
     "data": {
      "text/html": [
       "<div>\n",
       "<style scoped>\n",
       "    .dataframe tbody tr th:only-of-type {\n",
       "        vertical-align: middle;\n",
       "    }\n",
       "\n",
       "    .dataframe tbody tr th {\n",
       "        vertical-align: top;\n",
       "    }\n",
       "\n",
       "    .dataframe thead th {\n",
       "        text-align: right;\n",
       "    }\n",
       "</style>\n",
       "<table border=\"1\" class=\"dataframe\">\n",
       "  <thead>\n",
       "    <tr style=\"text-align: right;\">\n",
       "      <th></th>\n",
       "      <th>Country</th>\n",
       "      <th>Code</th>\n",
       "      <th>Calling Code</th>\n",
       "      <th>Year</th>\n",
       "      <th>CO2 emission (Tons)</th>\n",
       "      <th>Population(2022)</th>\n",
       "      <th>Area</th>\n",
       "      <th>% of World</th>\n",
       "    </tr>\n",
       "  </thead>\n",
       "  <tbody>\n",
       "    <tr>\n",
       "      <th>0</th>\n",
       "      <td>Afghanistan</td>\n",
       "      <td>AF</td>\n",
       "      <td>93</td>\n",
       "      <td>1750</td>\n",
       "      <td>0.0</td>\n",
       "      <td>41128771.0</td>\n",
       "      <td>652230.0</td>\n",
       "      <td>0.40%</td>\n",
       "    </tr>\n",
       "    <tr>\n",
       "      <th>1</th>\n",
       "      <td>Albania</td>\n",
       "      <td>AL</td>\n",
       "      <td>355</td>\n",
       "      <td>1750</td>\n",
       "      <td>0.0</td>\n",
       "      <td>2842321.0</td>\n",
       "      <td>28748.0</td>\n",
       "      <td>0.00%</td>\n",
       "    </tr>\n",
       "    <tr>\n",
       "      <th>2</th>\n",
       "      <td>Algeria</td>\n",
       "      <td>DZ</td>\n",
       "      <td>213</td>\n",
       "      <td>1750</td>\n",
       "      <td>0.0</td>\n",
       "      <td>44903225.0</td>\n",
       "      <td>2381741.0</td>\n",
       "      <td>1.60%</td>\n",
       "    </tr>\n",
       "    <tr>\n",
       "      <th>3</th>\n",
       "      <td>Andorra</td>\n",
       "      <td>AD</td>\n",
       "      <td>376</td>\n",
       "      <td>1750</td>\n",
       "      <td>0.0</td>\n",
       "      <td>79824.0</td>\n",
       "      <td>468.0</td>\n",
       "      <td>0.00%</td>\n",
       "    </tr>\n",
       "    <tr>\n",
       "      <th>4</th>\n",
       "      <td>Angola</td>\n",
       "      <td>AO</td>\n",
       "      <td>244</td>\n",
       "      <td>1750</td>\n",
       "      <td>0.0</td>\n",
       "      <td>35588987.0</td>\n",
       "      <td>1246700.0</td>\n",
       "      <td>0.80%</td>\n",
       "    </tr>\n",
       "  </tbody>\n",
       "</table>\n",
       "</div>"
      ],
      "text/plain": [
       "       Country Code Calling Code  Year  CO2 emission (Tons)  Population(2022)  \\\n",
       "0  Afghanistan   AF           93  1750                  0.0        41128771.0   \n",
       "1      Albania   AL          355  1750                  0.0         2842321.0   \n",
       "2      Algeria   DZ          213  1750                  0.0        44903225.0   \n",
       "3      Andorra   AD          376  1750                  0.0           79824.0   \n",
       "4       Angola   AO          244  1750                  0.0        35588987.0   \n",
       "\n",
       "        Area % of World  \n",
       "0   652230.0      0.40%  \n",
       "1    28748.0      0.00%  \n",
       "2  2381741.0      1.60%  \n",
       "3      468.0      0.00%  \n",
       "4  1246700.0      0.80%  "
      ]
     },
     "execution_count": 6,
     "metadata": {},
     "output_type": "execute_result"
    }
   ],
   "source": [
    "df_CO2.head()"
   ]
  },
  {
   "cell_type": "code",
   "execution_count": 7,
   "metadata": {
    "scrolled": true
   },
   "outputs": [
    {
     "data": {
      "text/html": [
       "<div>\n",
       "<style scoped>\n",
       "    .dataframe tbody tr th:only-of-type {\n",
       "        vertical-align: middle;\n",
       "    }\n",
       "\n",
       "    .dataframe tbody tr th {\n",
       "        vertical-align: top;\n",
       "    }\n",
       "\n",
       "    .dataframe thead th {\n",
       "        text-align: right;\n",
       "    }\n",
       "</style>\n",
       "<table border=\"1\" class=\"dataframe\">\n",
       "  <thead>\n",
       "    <tr style=\"text-align: right;\">\n",
       "      <th></th>\n",
       "      <th>dt</th>\n",
       "      <th>AverageTemperature</th>\n",
       "      <th>AverageTemperatureUncertainty</th>\n",
       "      <th>Country</th>\n",
       "    </tr>\n",
       "  </thead>\n",
       "  <tbody>\n",
       "    <tr>\n",
       "      <th>0</th>\n",
       "      <td>1743-11-01</td>\n",
       "      <td>4.384</td>\n",
       "      <td>2.294</td>\n",
       "      <td>Åland</td>\n",
       "    </tr>\n",
       "    <tr>\n",
       "      <th>5</th>\n",
       "      <td>1744-04-01</td>\n",
       "      <td>1.530</td>\n",
       "      <td>4.680</td>\n",
       "      <td>Åland</td>\n",
       "    </tr>\n",
       "    <tr>\n",
       "      <th>6</th>\n",
       "      <td>1744-05-01</td>\n",
       "      <td>6.702</td>\n",
       "      <td>1.789</td>\n",
       "      <td>Åland</td>\n",
       "    </tr>\n",
       "    <tr>\n",
       "      <th>7</th>\n",
       "      <td>1744-06-01</td>\n",
       "      <td>11.609</td>\n",
       "      <td>1.577</td>\n",
       "      <td>Åland</td>\n",
       "    </tr>\n",
       "    <tr>\n",
       "      <th>8</th>\n",
       "      <td>1744-07-01</td>\n",
       "      <td>15.342</td>\n",
       "      <td>1.410</td>\n",
       "      <td>Åland</td>\n",
       "    </tr>\n",
       "  </tbody>\n",
       "</table>\n",
       "</div>"
      ],
      "text/plain": [
       "           dt  AverageTemperature  AverageTemperatureUncertainty Country\n",
       "0  1743-11-01               4.384                          2.294   Åland\n",
       "5  1744-04-01               1.530                          4.680   Åland\n",
       "6  1744-05-01               6.702                          1.789   Åland\n",
       "7  1744-06-01              11.609                          1.577   Åland\n",
       "8  1744-07-01              15.342                          1.410   Åland"
      ]
     },
     "execution_count": 7,
     "metadata": {},
     "output_type": "execute_result"
    }
   ],
   "source": [
    "df_temps.head()"
   ]
  },
  {
   "cell_type": "code",
   "execution_count": 8,
   "metadata": {
    "scrolled": true
   },
   "outputs": [
    {
     "data": {
      "text/html": [
       "<div>\n",
       "<style scoped>\n",
       "    .dataframe tbody tr th:only-of-type {\n",
       "        vertical-align: middle;\n",
       "    }\n",
       "\n",
       "    .dataframe tbody tr th {\n",
       "        vertical-align: top;\n",
       "    }\n",
       "\n",
       "    .dataframe thead th {\n",
       "        text-align: right;\n",
       "    }\n",
       "</style>\n",
       "<table border=\"1\" class=\"dataframe\">\n",
       "  <thead>\n",
       "    <tr style=\"text-align: right;\">\n",
       "      <th></th>\n",
       "      <th>Year</th>\n",
       "      <th>TotalWeightedObservations</th>\n",
       "      <th>GMSL_noGIA</th>\n",
       "      <th>StdDevGMSL_noGIA</th>\n",
       "      <th>SmoothedGSML_noGIA</th>\n",
       "      <th>GMSL_GIA</th>\n",
       "      <th>StdDevGMSL_GIA</th>\n",
       "      <th>SmoothedGSML_GIA</th>\n",
       "      <th>SmoothedGSML_GIA_sigremoved</th>\n",
       "    </tr>\n",
       "  </thead>\n",
       "  <tbody>\n",
       "    <tr>\n",
       "      <th>0</th>\n",
       "      <td>1993</td>\n",
       "      <td>327401.31</td>\n",
       "      <td>-38.59</td>\n",
       "      <td>89.86</td>\n",
       "      <td>-38.76</td>\n",
       "      <td>-38.59</td>\n",
       "      <td>89.86</td>\n",
       "      <td>-38.75</td>\n",
       "      <td>-38.57</td>\n",
       "    </tr>\n",
       "    <tr>\n",
       "      <th>1</th>\n",
       "      <td>1993</td>\n",
       "      <td>324498.41</td>\n",
       "      <td>-41.97</td>\n",
       "      <td>90.86</td>\n",
       "      <td>-39.78</td>\n",
       "      <td>-41.97</td>\n",
       "      <td>90.86</td>\n",
       "      <td>-39.77</td>\n",
       "      <td>-39.11</td>\n",
       "    </tr>\n",
       "    <tr>\n",
       "      <th>2</th>\n",
       "      <td>1993</td>\n",
       "      <td>333018.19</td>\n",
       "      <td>-41.93</td>\n",
       "      <td>87.27</td>\n",
       "      <td>-39.62</td>\n",
       "      <td>-41.91</td>\n",
       "      <td>87.27</td>\n",
       "      <td>-39.61</td>\n",
       "      <td>-38.58</td>\n",
       "    </tr>\n",
       "    <tr>\n",
       "      <th>3</th>\n",
       "      <td>1993</td>\n",
       "      <td>297483.19</td>\n",
       "      <td>-42.67</td>\n",
       "      <td>90.75</td>\n",
       "      <td>-39.67</td>\n",
       "      <td>-42.65</td>\n",
       "      <td>90.74</td>\n",
       "      <td>-39.64</td>\n",
       "      <td>-38.34</td>\n",
       "    </tr>\n",
       "    <tr>\n",
       "      <th>4</th>\n",
       "      <td>1993</td>\n",
       "      <td>321635.81</td>\n",
       "      <td>-37.86</td>\n",
       "      <td>90.26</td>\n",
       "      <td>-38.75</td>\n",
       "      <td>-37.83</td>\n",
       "      <td>90.25</td>\n",
       "      <td>-38.72</td>\n",
       "      <td>-37.21</td>\n",
       "    </tr>\n",
       "  </tbody>\n",
       "</table>\n",
       "</div>"
      ],
      "text/plain": [
       "   Year  TotalWeightedObservations  GMSL_noGIA  StdDevGMSL_noGIA  \\\n",
       "0  1993                  327401.31      -38.59             89.86   \n",
       "1  1993                  324498.41      -41.97             90.86   \n",
       "2  1993                  333018.19      -41.93             87.27   \n",
       "3  1993                  297483.19      -42.67             90.75   \n",
       "4  1993                  321635.81      -37.86             90.26   \n",
       "\n",
       "   SmoothedGSML_noGIA  GMSL_GIA  StdDevGMSL_GIA  SmoothedGSML_GIA  \\\n",
       "0              -38.76    -38.59           89.86            -38.75   \n",
       "1              -39.78    -41.97           90.86            -39.77   \n",
       "2              -39.62    -41.91           87.27            -39.61   \n",
       "3              -39.67    -42.65           90.74            -39.64   \n",
       "4              -38.75    -37.83           90.25            -38.72   \n",
       "\n",
       "   SmoothedGSML_GIA_sigremoved  \n",
       "0                       -38.57  \n",
       "1                       -39.11  \n",
       "2                       -38.58  \n",
       "3                       -38.34  \n",
       "4                       -37.21  "
      ]
     },
     "execution_count": 8,
     "metadata": {},
     "output_type": "execute_result"
    }
   ],
   "source": [
    "df_sea.head()"
   ]
  },
  {
   "cell_type": "markdown",
   "metadata": {},
   "source": [
    "Agrupem les dades de temperatures per any i país:"
   ]
  },
  {
   "cell_type": "code",
   "execution_count": 9,
   "metadata": {},
   "outputs": [],
   "source": [
    "# Primer de tot, insertem una nova columna per l'any i treiem els anys que no ens interessin:\n",
    "df_temps_dt = df_temps['dt'].to_list()\n",
    "df_temps.insert(0, \"year\", [int(item[0:4]) for item in df_temps_dt], True)\n",
    "df_temps.drop(df_temps[df_temps['year'] < 1750].index, inplace=True)"
   ]
  },
  {
   "cell_type": "code",
   "execution_count": 10,
   "metadata": {},
   "outputs": [
    {
     "data": {
      "text/html": [
       "<div>\n",
       "<style scoped>\n",
       "    .dataframe tbody tr th:only-of-type {\n",
       "        vertical-align: middle;\n",
       "    }\n",
       "\n",
       "    .dataframe tbody tr th {\n",
       "        vertical-align: top;\n",
       "    }\n",
       "\n",
       "    .dataframe thead th {\n",
       "        text-align: right;\n",
       "    }\n",
       "</style>\n",
       "<table border=\"1\" class=\"dataframe\">\n",
       "  <thead>\n",
       "    <tr style=\"text-align: right;\">\n",
       "      <th></th>\n",
       "      <th>Year</th>\n",
       "      <th>Country</th>\n",
       "      <th>AverageTemperature</th>\n",
       "    </tr>\n",
       "  </thead>\n",
       "  <tbody>\n",
       "    <tr>\n",
       "      <th>0</th>\n",
       "      <td>1750</td>\n",
       "      <td>Albania</td>\n",
       "      <td>13.097909</td>\n",
       "    </tr>\n",
       "    <tr>\n",
       "      <th>1</th>\n",
       "      <td>1750</td>\n",
       "      <td>Andorra</td>\n",
       "      <td>11.759364</td>\n",
       "    </tr>\n",
       "    <tr>\n",
       "      <th>2</th>\n",
       "      <td>1750</td>\n",
       "      <td>Austria</td>\n",
       "      <td>6.983545</td>\n",
       "    </tr>\n",
       "    <tr>\n",
       "      <th>3</th>\n",
       "      <td>1750</td>\n",
       "      <td>Belarus</td>\n",
       "      <td>6.690545</td>\n",
       "    </tr>\n",
       "    <tr>\n",
       "      <th>4</th>\n",
       "      <td>1750</td>\n",
       "      <td>Belgium</td>\n",
       "      <td>10.341364</td>\n",
       "    </tr>\n",
       "  </tbody>\n",
       "</table>\n",
       "</div>"
      ],
      "text/plain": [
       "   Year  Country  AverageTemperature\n",
       "0  1750  Albania           13.097909\n",
       "1  1750  Andorra           11.759364\n",
       "2  1750  Austria            6.983545\n",
       "3  1750  Belarus            6.690545\n",
       "4  1750  Belgium           10.341364"
      ]
     },
     "execution_count": 10,
     "metadata": {},
     "output_type": "execute_result"
    }
   ],
   "source": [
    "df_temps = df_temps.groupby(\n",
    "    ['year', 'Country']).agg(\n",
    "    {'AverageTemperature': 'mean'}).reset_index()\n",
    "df_temps.sort_values(by=['year', 'Country']).reset_index(drop=True)\n",
    "df_temps.rename(columns={'year':'Year'}, inplace=True)\n",
    "df_temps.head()"
   ]
  },
  {
   "cell_type": "markdown",
   "metadata": {},
   "source": [
    "Eliminem les columnes que no necessitem del dataset d'emissions de CO2:"
   ]
  },
  {
   "cell_type": "code",
   "execution_count": 11,
   "metadata": {},
   "outputs": [
    {
     "data": {
      "text/html": [
       "<div>\n",
       "<style scoped>\n",
       "    .dataframe tbody tr th:only-of-type {\n",
       "        vertical-align: middle;\n",
       "    }\n",
       "\n",
       "    .dataframe tbody tr th {\n",
       "        vertical-align: top;\n",
       "    }\n",
       "\n",
       "    .dataframe thead th {\n",
       "        text-align: right;\n",
       "    }\n",
       "</style>\n",
       "<table border=\"1\" class=\"dataframe\">\n",
       "  <thead>\n",
       "    <tr style=\"text-align: right;\">\n",
       "      <th></th>\n",
       "      <th>Year</th>\n",
       "      <th>Country</th>\n",
       "      <th>CO2 emission (Tons)</th>\n",
       "    </tr>\n",
       "  </thead>\n",
       "  <tbody>\n",
       "    <tr>\n",
       "      <th>0</th>\n",
       "      <td>1750</td>\n",
       "      <td>Afghanistan</td>\n",
       "      <td>0.0</td>\n",
       "    </tr>\n",
       "    <tr>\n",
       "      <th>1</th>\n",
       "      <td>1750</td>\n",
       "      <td>Albania</td>\n",
       "      <td>0.0</td>\n",
       "    </tr>\n",
       "    <tr>\n",
       "      <th>2</th>\n",
       "      <td>1750</td>\n",
       "      <td>Algeria</td>\n",
       "      <td>0.0</td>\n",
       "    </tr>\n",
       "    <tr>\n",
       "      <th>3</th>\n",
       "      <td>1750</td>\n",
       "      <td>Andorra</td>\n",
       "      <td>0.0</td>\n",
       "    </tr>\n",
       "    <tr>\n",
       "      <th>4</th>\n",
       "      <td>1750</td>\n",
       "      <td>Angola</td>\n",
       "      <td>0.0</td>\n",
       "    </tr>\n",
       "  </tbody>\n",
       "</table>\n",
       "</div>"
      ],
      "text/plain": [
       "   Year      Country  CO2 emission (Tons)\n",
       "0  1750  Afghanistan                  0.0\n",
       "1  1750      Albania                  0.0\n",
       "2  1750      Algeria                  0.0\n",
       "3  1750      Andorra                  0.0\n",
       "4  1750       Angola                  0.0"
      ]
     },
     "execution_count": 11,
     "metadata": {},
     "output_type": "execute_result"
    }
   ],
   "source": [
    "df_CO2 = df_CO2.drop(columns=['Population(2022)', 'Area', '% of World','Code','Calling Code'])\n",
    "df_CO2 = df_CO2[['Year','Country','CO2 emission (Tons)']]\n",
    "df_CO2.head()"
   ]
  },
  {
   "cell_type": "markdown",
   "metadata": {},
   "source": [
    "Finalment, juntem les dades en un sol set de dades:"
   ]
  },
  {
   "cell_type": "code",
   "execution_count": 12,
   "metadata": {},
   "outputs": [],
   "source": [
    "df_final = df_temps.merge(df_CO2, how='left', on=['Year', 'Country']).fillna(0).reset_index(drop=True)\n",
    "df_final.drop(df_final[df_final['Year'] < 1850].index, inplace=True)\n",
    "df_final = df_final.reset_index(drop=True)\n",
    "df_final.to_csv('visualitzacio_practica_final_df.csv') "
   ]
  },
  {
   "cell_type": "code",
   "execution_count": 13,
   "metadata": {},
   "outputs": [
    {
     "data": {
      "text/html": [
       "<div>\n",
       "<style scoped>\n",
       "    .dataframe tbody tr th:only-of-type {\n",
       "        vertical-align: middle;\n",
       "    }\n",
       "\n",
       "    .dataframe tbody tr th {\n",
       "        vertical-align: top;\n",
       "    }\n",
       "\n",
       "    .dataframe thead th {\n",
       "        text-align: right;\n",
       "    }\n",
       "</style>\n",
       "<table border=\"1\" class=\"dataframe\">\n",
       "  <thead>\n",
       "    <tr style=\"text-align: right;\">\n",
       "      <th></th>\n",
       "      <th>Year</th>\n",
       "      <th>Country</th>\n",
       "      <th>AverageTemperature</th>\n",
       "      <th>CO2 emission (Tons)</th>\n",
       "    </tr>\n",
       "  </thead>\n",
       "  <tbody>\n",
       "    <tr>\n",
       "      <th>0</th>\n",
       "      <td>1850</td>\n",
       "      <td>Afghanistan</td>\n",
       "      <td>13.326083</td>\n",
       "      <td>0.0</td>\n",
       "    </tr>\n",
       "    <tr>\n",
       "      <th>1</th>\n",
       "      <td>1850</td>\n",
       "      <td>Africa</td>\n",
       "      <td>23.672273</td>\n",
       "      <td>0.0</td>\n",
       "    </tr>\n",
       "    <tr>\n",
       "      <th>2</th>\n",
       "      <td>1850</td>\n",
       "      <td>Albania</td>\n",
       "      <td>11.734667</td>\n",
       "      <td>0.0</td>\n",
       "    </tr>\n",
       "    <tr>\n",
       "      <th>3</th>\n",
       "      <td>1850</td>\n",
       "      <td>Algeria</td>\n",
       "      <td>22.587333</td>\n",
       "      <td>0.0</td>\n",
       "    </tr>\n",
       "    <tr>\n",
       "      <th>4</th>\n",
       "      <td>1850</td>\n",
       "      <td>Andorra</td>\n",
       "      <td>10.651750</td>\n",
       "      <td>0.0</td>\n",
       "    </tr>\n",
       "  </tbody>\n",
       "</table>\n",
       "</div>"
      ],
      "text/plain": [
       "   Year      Country  AverageTemperature  CO2 emission (Tons)\n",
       "0  1850  Afghanistan           13.326083                  0.0\n",
       "1  1850       Africa           23.672273                  0.0\n",
       "2  1850      Albania           11.734667                  0.0\n",
       "3  1850      Algeria           22.587333                  0.0\n",
       "4  1850      Andorra           10.651750                  0.0"
      ]
     },
     "execution_count": 13,
     "metadata": {},
     "output_type": "execute_result"
    }
   ],
   "source": [
    "df_final.head()"
   ]
  },
  {
   "cell_type": "markdown",
   "metadata": {},
   "source": [
    "Agrupem el set de dades per any, fent la suma d'emissions i la mitjana de temperatures mitjanes per cada any. D'aquesta manera, tenim l'evolució global:"
   ]
  },
  {
   "cell_type": "code",
   "execution_count": 14,
   "metadata": {},
   "outputs": [
    {
     "data": {
      "text/html": [
       "<div>\n",
       "<style scoped>\n",
       "    .dataframe tbody tr th:only-of-type {\n",
       "        vertical-align: middle;\n",
       "    }\n",
       "\n",
       "    .dataframe tbody tr th {\n",
       "        vertical-align: top;\n",
       "    }\n",
       "\n",
       "    .dataframe thead th {\n",
       "        text-align: right;\n",
       "    }\n",
       "</style>\n",
       "<table border=\"1\" class=\"dataframe\">\n",
       "  <thead>\n",
       "    <tr style=\"text-align: right;\">\n",
       "      <th></th>\n",
       "      <th>Year</th>\n",
       "      <th>CO2 emission (Tons)</th>\n",
       "      <th>AverageTemperature</th>\n",
       "    </tr>\n",
       "  </thead>\n",
       "  <tbody>\n",
       "    <tr>\n",
       "      <th>0</th>\n",
       "      <td>1850</td>\n",
       "      <td>4.759415e+09</td>\n",
       "      <td>16.907766</td>\n",
       "    </tr>\n",
       "    <tr>\n",
       "      <th>1</th>\n",
       "      <td>1851</td>\n",
       "      <td>4.958220e+09</td>\n",
       "      <td>16.761938</td>\n",
       "    </tr>\n",
       "    <tr>\n",
       "      <th>2</th>\n",
       "      <td>1852</td>\n",
       "      <td>5.165771e+09</td>\n",
       "      <td>15.926416</td>\n",
       "    </tr>\n",
       "    <tr>\n",
       "      <th>3</th>\n",
       "      <td>1853</td>\n",
       "      <td>5.382980e+09</td>\n",
       "      <td>16.140916</td>\n",
       "    </tr>\n",
       "    <tr>\n",
       "      <th>4</th>\n",
       "      <td>1854</td>\n",
       "      <td>5.638119e+09</td>\n",
       "      <td>16.255743</td>\n",
       "    </tr>\n",
       "  </tbody>\n",
       "</table>\n",
       "</div>"
      ],
      "text/plain": [
       "   Year  CO2 emission (Tons)  AverageTemperature\n",
       "0  1850         4.759415e+09           16.907766\n",
       "1  1851         4.958220e+09           16.761938\n",
       "2  1852         5.165771e+09           15.926416\n",
       "3  1853         5.382980e+09           16.140916\n",
       "4  1854         5.638119e+09           16.255743"
      ]
     },
     "execution_count": 14,
     "metadata": {},
     "output_type": "execute_result"
    }
   ],
   "source": [
    "df_final_world = df_final.groupby(\n",
    "    ['Year']).agg(\n",
    "    {'CO2 emission (Tons)': 'sum',\n",
    "     'AverageTemperature': 'mean'}).reset_index()\n",
    "\n",
    "df_final_world = df_final_world.reset_index(drop=True)\n",
    "df_final_world.head()"
   ]
  },
  {
   "cell_type": "code",
   "execution_count": 15,
   "metadata": {},
   "outputs": [],
   "source": [
    "def plot_df_cols(df, cols_plot, colors_dict, title, size, ylabel):\n",
    "    # plot multiple columns such as population and year from dataframe\n",
    "    plt_show = df.plot(\n",
    "        x=\"Year\", y=cols_plot,kind=\"line\", figsize=size,\n",
    "        title = title,\n",
    "        color=[colors_dict.get(x, '#333333') for x in cols_plot])\n",
    "    plt_show.legend(fontsize=11, loc=\"upper left\")\n",
    "    plt_show.set_ylabel(ylabel)\n",
    "    plt_show.title.set_size(16)"
   ]
  },
  {
   "cell_type": "markdown",
   "metadata": {},
   "source": [
    "Pintem l'evolució global per a la mitjana de les temperatures i la suma d'emissions per any. Aquests gràfics seran els que utilitzarem a les imatges que compondran el vídeo a la visualització final."
   ]
  },
  {
   "cell_type": "code",
   "execution_count": 16,
   "metadata": {},
   "outputs": [
    {
     "data": {
      "image/png": "[encoded data removed]",
      "text/plain": [
       "<Figure size 1200x700 with 1 Axes>"
      ]
     },
     "metadata": {},
     "output_type": "display_data"
    }
   ],
   "source": [
    "plot_df_cols(df_final_world, ['AverageTemperature'], {}, 'Average Temperatures evolution', (12, 7), 'avg (°C)')"
   ]
  },
  {
   "cell_type": "code",
   "execution_count": 17,
   "metadata": {},
   "outputs": [
    {
     "data": {
      "image/png": "[encoded data removed]",
      "text/plain": [
       "<Figure size 1200x700 with 1 Axes>"
      ]
     },
     "metadata": {},
     "output_type": "display_data"
    }
   ],
   "source": [
    "plot_df_cols(df_final_world, ['CO2 emission (Tons)'], {}, 'CO2 emissions evolution', (12, 7), 'Tons')"
   ]
  },
  {
   "cell_type": "markdown",
   "metadata": {},
   "source": [
    "També pintem l'evolució del nivell del mar. Però aquesta informació no s'utilitzarà, ja que com es pot veure no es tenen dades pel mateix rang de dades que als gràfics anteriors. A més, pràcticament no hi ha evolució, es manté una línia recta sense pendent."
   ]
  },
  {
   "cell_type": "code",
   "execution_count": 18,
   "metadata": {},
   "outputs": [
    {
     "data": {
      "image/png": "[encoded data removed]",
      "text/plain": [
       "<Figure size 1200x700 with 1 Axes>"
      ]
     },
     "metadata": {},
     "output_type": "display_data"
    }
   ],
   "source": [
    "plot_df_cols(df_sea, ['TotalWeightedObservations'], {}, 'Sea level', (12, 7), 'Height')"
   ]
  },
  {
   "cell_type": "markdown",
   "metadata": {},
   "source": [
    "**NOTA:** Aquest jupyter continua a la segona part. Veure **Practica_Final_2**."
   ]
  }
 ],
 "metadata": {
  "colab": {
   "collapsed_sections": [
    "YO1mZRrP4FT2"
   ],
   "provenance": []
  },
  "kernelspec": {
   "display_name": "Python 3 (ipykernel)",
   "language": "python",
   "name": "python3"
  },
  "language_info": {
   "codemirror_mode": {
    "name": "ipython",
    "version": 3
   },
   "file_extension": ".py",
   "mimetype": "text/x-python",
   "name": "python",
   "nbconvert_exporter": "python",
   "pygments_lexer": "ipython3",
   "version": "3.11.0"
  }
 },
 "nbformat": 4,
 "nbformat_minor": 1
}
